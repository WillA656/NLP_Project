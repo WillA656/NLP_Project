{
  "cells": [
    {
      "cell_type": "markdown",
      "metadata": {
        "id": "view-in-github",
        "colab_type": "text"
      },
      "source": [
        "<a href=\"https://colab.research.google.com/github/WillA656/NLP_Project/blob/main/SparkNLP.ipynb\" target=\"_parent\"><img src=\"https://colab.research.google.com/assets/colab-badge.svg\" alt=\"Open In Colab\"/></a>"
      ]
    },
    {
      "cell_type": "markdown",
      "metadata": {
        "id": "hZ46j-PD-eXS"
      },
      "source": [
        "Let's set up SparkNLP.\n",
        "\n",
        "## Hello world -- Part 2"
      ]
    },
    {
      "cell_type": "code",
      "execution_count": 1,
      "metadata": {
        "colab": {
          "base_uri": "https://localhost:8080/"
        },
        "id": "Hz8walkjXq0I",
        "outputId": "0f9216da-c737-4817-a8dc-4d67e36f1703"
      },
      "outputs": [
        {
          "output_type": "stream",
          "name": "stdout",
          "text": [
            "--2024-07-22 09:00:29--  http://setup.johnsnowlabs.com/colab.sh\n",
            "Resolving setup.johnsnowlabs.com (setup.johnsnowlabs.com)... 3.86.22.73\n",
            "Connecting to setup.johnsnowlabs.com (setup.johnsnowlabs.com)|3.86.22.73|:80... connected.\n",
            "HTTP request sent, awaiting response... 302 Moved Temporarily\n",
            "Location: https://raw.githubusercontent.com/JohnSnowLabs/spark-nlp/master/scripts/colab_setup.sh [following]\n",
            "--2024-07-22 09:00:29--  https://raw.githubusercontent.com/JohnSnowLabs/spark-nlp/master/scripts/colab_setup.sh\n",
            "Resolving raw.githubusercontent.com (raw.githubusercontent.com)... 185.199.109.133, 185.199.108.133, 185.199.111.133, ...\n",
            "Connecting to raw.githubusercontent.com (raw.githubusercontent.com)|185.199.109.133|:443... connected.\n",
            "HTTP request sent, awaiting response... 200 OK\n",
            "Length: 1191 (1.2K) [text/plain]\n",
            "Saving to: ‘STDOUT’\n",
            "\n",
            "-                   100%[===================>]   1.16K  --.-KB/s    in 0s      \n",
            "\n",
            "2024-07-22 09:00:29 (56.3 MB/s) - written to stdout [1191/1191]\n",
            "\n",
            "Installing PySpark 3.2.3 and Spark NLP 5.4.1\n",
            "setup Colab for PySpark 3.2.3 and Spark NLP 5.4.1\n",
            "\u001b[2K     \u001b[90m━━━━━━━━━━━━━━━━━━━━━━━━━━━━━━━━━━━━━━━━\u001b[0m \u001b[32m281.5/281.5 MB\u001b[0m \u001b[31m2.2 MB/s\u001b[0m eta \u001b[36m0:00:00\u001b[0m\n",
            "\u001b[?25h  Preparing metadata (setup.py) ... \u001b[?25l\u001b[?25hdone\n",
            "\u001b[2K     \u001b[90m━━━━━━━━━━━━━━━━━━━━━━━━━━━━━━━━━━━━━━━━\u001b[0m \u001b[32m579.2/579.2 kB\u001b[0m \u001b[31m31.8 MB/s\u001b[0m eta \u001b[36m0:00:00\u001b[0m\n",
            "\u001b[2K     \u001b[90m━━━━━━━━━━━━━━━━━━━━━━━━━━━━━━━━━━━━━━━━\u001b[0m \u001b[32m199.7/199.7 kB\u001b[0m \u001b[31m17.4 MB/s\u001b[0m eta \u001b[36m0:00:00\u001b[0m\n",
            "\u001b[?25h  Building wheel for pyspark (setup.py) ... \u001b[?25l\u001b[?25hdone\n"
          ]
        }
      ],
      "source": [
        "!wget http://setup.johnsnowlabs.com/colab.sh -O - | bash"
      ]
    },
    {
      "cell_type": "code",
      "source": [
        "# Access Data\n",
        "!curl \"https://raw.githubusercontent.com/WillA656/NLP_Project/main/Gutendex_JSON\" -o book_list\n",
        "!wget -i book_list\n",
        "\n",
        "# ! rm *.utf-8.* # remove all utf"
      ],
      "metadata": {
        "id": "6dnB-dtqsWU0",
        "outputId": "a663e991-5330-4cb3-edd2-06e4dc736cfb",
        "colab": {
          "base_uri": "https://localhost:8080/"
        }
      },
      "execution_count": 5,
      "outputs": [
        {
          "output_type": "stream",
          "name": "stdout",
          "text": [
            "  % Total    % Received % Xferd  Average Speed   Time    Time     Time  Current\n",
            "                                 Dload  Upload   Total   Spent    Left  Speed\n",
            "100   434  100   434    0     0   1627      0 --:--:-- --:--:-- --:--:--  1631\n",
            "--2024-07-22 09:09:23--  https://www.gutenberg.org/ebooks/1513.txt.utf-8\n",
            "Resolving www.gutenberg.org (www.gutenberg.org)... 152.19.134.47, 2610:28:3090:3000:0:bad:cafe:47\n",
            "Connecting to www.gutenberg.org (www.gutenberg.org)|152.19.134.47|:443... connected.\n",
            "HTTP request sent, awaiting response... 302 Found\n",
            "Location: http://www.gutenberg.org/cache/epub/1513/pg1513.txt [following]\n",
            "--2024-07-22 09:09:24--  http://www.gutenberg.org/cache/epub/1513/pg1513.txt\n",
            "Connecting to www.gutenberg.org (www.gutenberg.org)|152.19.134.47|:80... connected.\n",
            "HTTP request sent, awaiting response... 302 Found\n",
            "Location: https://www.gutenberg.org/cache/epub/1513/pg1513.txt [following]\n",
            "--2024-07-22 09:09:24--  https://www.gutenberg.org/cache/epub/1513/pg1513.txt\n",
            "Connecting to www.gutenberg.org (www.gutenberg.org)|152.19.134.47|:443... connected.\n",
            "HTTP request sent, awaiting response... 200 OK\n",
            "Length: 169541 (166K) [text/plain]\n",
            "Saving to: ‘1513.txt.utf-8’\n",
            "\n",
            "1513.txt.utf-8      100%[===================>] 165.57K   818KB/s    in 0.2s    \n",
            "\n",
            "2024-07-22 09:09:24 (818 KB/s) - ‘1513.txt.utf-8’ saved [169541/169541]\n",
            "\n",
            "--2024-07-22 09:09:24--  https://www.gutenberg.org/ebooks/2701.txt.utf-8\n",
            "Reusing existing connection to www.gutenberg.org:443.\n",
            "HTTP request sent, awaiting response... 302 Found\n",
            "Location: http://www.gutenberg.org/cache/epub/2701/pg2701.txt [following]\n",
            "--2024-07-22 09:09:24--  http://www.gutenberg.org/cache/epub/2701/pg2701.txt\n",
            "Connecting to www.gutenberg.org (www.gutenberg.org)|152.19.134.47|:80... connected.\n",
            "HTTP request sent, awaiting response... 302 Found\n",
            "Location: https://www.gutenberg.org/cache/epub/2701/pg2701.txt [following]\n",
            "--2024-07-22 09:09:24--  https://www.gutenberg.org/cache/epub/2701/pg2701.txt\n",
            "Connecting to www.gutenberg.org (www.gutenberg.org)|152.19.134.47|:443... connected.\n",
            "HTTP request sent, awaiting response... 200 OK\n",
            "Length: 1276290 (1.2M) [text/plain]\n",
            "Saving to: ‘2701.txt.utf-8’\n",
            "\n",
            "2701.txt.utf-8      100%[===================>]   1.22M  3.31MB/s    in 0.4s    \n",
            "\n",
            "2024-07-22 09:09:25 (3.31 MB/s) - ‘2701.txt.utf-8’ saved [1276290/1276290]\n",
            "\n",
            "--2024-07-22 09:09:25--  https://www.gutenberg.org/ebooks/145.txt.utf-8\n",
            "Reusing existing connection to www.gutenberg.org:443.\n",
            "HTTP request sent, awaiting response... 302 Found\n",
            "Location: http://www.gutenberg.org/cache/epub/145/pg145.txt [following]\n",
            "--2024-07-22 09:09:25--  http://www.gutenberg.org/cache/epub/145/pg145.txt\n",
            "Connecting to www.gutenberg.org (www.gutenberg.org)|152.19.134.47|:80... connected.\n",
            "HTTP request sent, awaiting response... 302 Found\n",
            "Location: https://www.gutenberg.org/cache/epub/145/pg145.txt [following]\n",
            "--2024-07-22 09:09:25--  https://www.gutenberg.org/cache/epub/145/pg145.txt\n",
            "Connecting to www.gutenberg.org (www.gutenberg.org)|152.19.134.47|:443... connected.\n",
            "HTTP request sent, awaiting response... 200 OK\n",
            "Length: 1865728 (1.8M) [text/plain]\n",
            "Saving to: ‘145.txt.utf-8’\n",
            "\n",
            "145.txt.utf-8       100%[===================>]   1.78M  4.05MB/s    in 0.4s    \n",
            "\n",
            "2024-07-22 09:09:26 (4.05 MB/s) - ‘145.txt.utf-8’ saved [1865728/1865728]\n",
            "\n",
            "--2024-07-22 09:09:26--  https://www.gutenberg.org/ebooks/37106.txt.utf-8\n",
            "Reusing existing connection to www.gutenberg.org:443.\n",
            "HTTP request sent, awaiting response... 302 Found\n",
            "Location: http://www.gutenberg.org/cache/epub/37106/pg37106.txt [following]\n",
            "--2024-07-22 09:09:26--  http://www.gutenberg.org/cache/epub/37106/pg37106.txt\n",
            "Connecting to www.gutenberg.org (www.gutenberg.org)|152.19.134.47|:80... connected.\n",
            "HTTP request sent, awaiting response... 302 Found\n",
            "Location: https://www.gutenberg.org/cache/epub/37106/pg37106.txt [following]\n",
            "--2024-07-22 09:09:26--  https://www.gutenberg.org/cache/epub/37106/pg37106.txt\n",
            "Connecting to www.gutenberg.org (www.gutenberg.org)|152.19.134.47|:443... connected.\n",
            "HTTP request sent, awaiting response... 200 OK\n",
            "Length: 1113473 (1.1M) [text/plain]\n",
            "Saving to: ‘37106.txt.utf-8’\n",
            "\n",
            "37106.txt.utf-8     100%[===================>]   1.06M  2.87MB/s    in 0.4s    \n",
            "\n",
            "2024-07-22 09:09:27 (2.87 MB/s) - ‘37106.txt.utf-8’ saved [1113473/1113473]\n",
            "\n",
            "--2024-07-22 09:09:27--  https://www.gutenberg.org/ebooks/2641.txt.utf-8\n",
            "Reusing existing connection to www.gutenberg.org:443.\n",
            "HTTP request sent, awaiting response... 302 Found\n",
            "Location: http://www.gutenberg.org/cache/epub/2641/pg2641.txt [following]\n",
            "--2024-07-22 09:09:27--  http://www.gutenberg.org/cache/epub/2641/pg2641.txt\n",
            "Connecting to www.gutenberg.org (www.gutenberg.org)|152.19.134.47|:80... connected.\n",
            "HTTP request sent, awaiting response... 302 Found\n",
            "Location: https://www.gutenberg.org/cache/epub/2641/pg2641.txt [following]\n",
            "--2024-07-22 09:09:27--  https://www.gutenberg.org/cache/epub/2641/pg2641.txt\n",
            "Connecting to www.gutenberg.org (www.gutenberg.org)|152.19.134.47|:443... connected.\n",
            "HTTP request sent, awaiting response... 200 OK\n",
            "Length: 415860 (406K) [text/plain]\n",
            "Saving to: ‘2641.txt.utf-8’\n",
            "\n",
            "2641.txt.utf-8      100%[===================>] 406.11K  1.33MB/s    in 0.3s    \n",
            "\n",
            "2024-07-22 09:09:28 (1.33 MB/s) - ‘2641.txt.utf-8’ saved [415860/415860]\n",
            "\n",
            "--2024-07-22 09:09:28--  https://www.gutenberg.org/ebooks/16389.txt.utf-8\n",
            "Reusing existing connection to www.gutenberg.org:443.\n",
            "HTTP request sent, awaiting response... 302 Found\n",
            "Location: http://www.gutenberg.org/cache/epub/16389/pg16389.txt [following]\n",
            "--2024-07-22 09:09:28--  http://www.gutenberg.org/cache/epub/16389/pg16389.txt\n",
            "Connecting to www.gutenberg.org (www.gutenberg.org)|152.19.134.47|:80... connected.\n",
            "HTTP request sent, awaiting response... 302 Found\n",
            "Location: https://www.gutenberg.org/cache/epub/16389/pg16389.txt [following]\n",
            "--2024-07-22 09:09:28--  https://www.gutenberg.org/cache/epub/16389/pg16389.txt\n",
            "Connecting to www.gutenberg.org (www.gutenberg.org)|152.19.134.47|:443... connected.\n",
            "HTTP request sent, awaiting response... 200 OK\n",
            "Length: 476465 (465K) [text/plain]\n",
            "Saving to: ‘16389.txt.utf-8’\n",
            "\n",
            "16389.txt.utf-8     100%[===================>] 465.30K  1.52MB/s    in 0.3s    \n",
            "\n",
            "2024-07-22 09:09:29 (1.52 MB/s) - ‘16389.txt.utf-8’ saved [476465/476465]\n",
            "\n",
            "--2024-07-22 09:09:29--  https://www.gutenberg.org/ebooks/1342.txt.utf-8\n",
            "Reusing existing connection to www.gutenberg.org:443.\n",
            "HTTP request sent, awaiting response... 302 Found\n",
            "Location: http://www.gutenberg.org/cache/epub/1342/pg1342.txt [following]\n",
            "--2024-07-22 09:09:29--  http://www.gutenberg.org/cache/epub/1342/pg1342.txt\n",
            "Connecting to www.gutenberg.org (www.gutenberg.org)|152.19.134.47|:80... connected.\n",
            "HTTP request sent, awaiting response... 302 Found\n",
            "Location: https://www.gutenberg.org/cache/epub/1342/pg1342.txt [following]\n",
            "--2024-07-22 09:09:29--  https://www.gutenberg.org/cache/epub/1342/pg1342.txt\n",
            "Connecting to www.gutenberg.org (www.gutenberg.org)|152.19.134.47|:443... connected.\n",
            "HTTP request sent, awaiting response... 200 OK\n",
            "Length: 772424 (754K) [text/plain]\n",
            "Saving to: ‘1342.txt.utf-8’\n",
            "\n",
            "1342.txt.utf-8      100%[===================>] 754.32K  2.18MB/s    in 0.3s    \n",
            "\n",
            "2024-07-22 09:09:30 (2.18 MB/s) - ‘1342.txt.utf-8’ saved [772424/772424]\n",
            "\n",
            "--2024-07-22 09:09:30--  https://www.gutenberg.org/ebooks/1400.txt.utf-8\n",
            "Reusing existing connection to www.gutenberg.org:443.\n",
            "HTTP request sent, awaiting response... 302 Found\n",
            "Location: http://www.gutenberg.org/cache/epub/1400/pg1400.txt [following]\n",
            "--2024-07-22 09:09:30--  http://www.gutenberg.org/cache/epub/1400/pg1400.txt\n",
            "Connecting to www.gutenberg.org (www.gutenberg.org)|152.19.134.47|:80... connected.\n",
            "HTTP request sent, awaiting response... 302 Found\n",
            "Location: https://www.gutenberg.org/cache/epub/1400/pg1400.txt [following]\n",
            "--2024-07-22 09:09:30--  https://www.gutenberg.org/cache/epub/1400/pg1400.txt\n",
            "Connecting to www.gutenberg.org (www.gutenberg.org)|152.19.134.47|:443... connected.\n",
            "HTTP request sent, awaiting response... 200 OK\n",
            "Length: 1058255 (1.0M) [text/plain]\n",
            "Saving to: ‘1400.txt.utf-8’\n",
            "\n",
            "1400.txt.utf-8      100%[===================>]   1.01M  2.74MB/s    in 0.4s    \n",
            "\n",
            "2024-07-22 09:09:30 (2.74 MB/s) - ‘1400.txt.utf-8’ saved [1058255/1058255]\n",
            "\n",
            "--2024-07-22 09:09:30--  https://www.gutenberg.org/ebooks/67979.txt.utf-8\n",
            "Reusing existing connection to www.gutenberg.org:443.\n",
            "HTTP request sent, awaiting response... 302 Found\n",
            "Location: http://www.gutenberg.org/cache/epub/67979/pg67979.txt [following]\n",
            "--2024-07-22 09:09:30--  http://www.gutenberg.org/cache/epub/67979/pg67979.txt\n",
            "Connecting to www.gutenberg.org (www.gutenberg.org)|152.19.134.47|:80... connected.\n",
            "HTTP request sent, awaiting response... 302 Found\n",
            "Location: https://www.gutenberg.org/cache/epub/67979/pg67979.txt [following]\n",
            "--2024-07-22 09:09:31--  https://www.gutenberg.org/cache/epub/67979/pg67979.txt\n",
            "Connecting to www.gutenberg.org (www.gutenberg.org)|152.19.134.47|:443... connected.\n",
            "HTTP request sent, awaiting response... 200 OK\n",
            "Length: 428220 (418K) [text/plain]\n",
            "Saving to: ‘67979.txt.utf-8’\n",
            "\n",
            "67979.txt.utf-8     100%[===================>] 418.18K  1.35MB/s    in 0.3s    \n",
            "\n",
            "2024-07-22 09:09:31 (1.35 MB/s) - ‘67979.txt.utf-8’ saved [428220/428220]\n",
            "\n",
            "FINISHED --2024-07-22 09:09:31--\n",
            "Total wall clock time: 8.1s\n",
            "Downloaded: 9 files, 7.2M in 3.0s (2.42 MB/s)\n"
          ]
        }
      ]
    },
    {
      "cell_type": "code",
      "source": [
        "# Rename files\n",
        "import os\n",
        "os.mkdir(\"book_data\")\n",
        "for filename in os.listdir(\".\"):\n",
        "  if filename.endswith(\"utf-8\"):\n",
        "    with open(filename) as f:\n",
        "      first_line = f.readline()\n",
        "      print(first_line[32:])\n",
        "    os.rename(filename, (f\"book_data/{first_line[32:]}\").rstrip()+\".txt\") # rename and move to new file"
      ],
      "metadata": {
        "id": "e3u9Wl4svEI2",
        "outputId": "7a308a06-b738-4b82-e1a9-4813755d8c86",
        "colab": {
          "base_uri": "https://localhost:8080/"
        }
      },
      "execution_count": 6,
      "outputs": [
        {
          "output_type": "stream",
          "name": "stdout",
          "text": [
            "Pride and Prejudice\n",
            "\n",
            "The Enchanted April\n",
            "\n",
            "Little Women; Or, Meg, Jo, Beth, and Amy\n",
            "\n",
            "A Room with a View\n",
            "\n",
            "Middlemarch\n",
            "\n",
            "Romeo and Juliet\n",
            "\n",
            "Great Expectations\n",
            "\n",
            "Moby Dick; Or, The Whale\n",
            "\n",
            "The Blue Castle: a novel\n",
            "\n"
          ]
        }
      ]
    },
    {
      "cell_type": "code",
      "source": [
        "#Combine all 10 books into our corpus (Requires titles to end in .txt)\n",
        "output_path = '/content/corpus.txt'\n",
        "with open(output_path, 'w') as out:\n",
        "    for filename in os.listdir('book_data'):\n",
        "        file_path = os.path.join('book_data', filename)\n",
        "        if filename.endswith('.txt'):\n",
        "            with open(file_path, 'r') as infile:\n",
        "                out.write(infile.read() + '\\n')"
      ],
      "metadata": {
        "id": "v3G9s1ld8fHG"
      },
      "execution_count": 7,
      "outputs": []
    },
    {
      "cell_type": "code",
      "execution_count": 3,
      "metadata": {
        "colab": {
          "base_uri": "https://localhost:8080/"
        },
        "id": "8trkawwfX8bx",
        "outputId": "b0720468-0098-4d26-85ff-41558d56dcc0"
      },
      "outputs": [
        {
          "output_type": "stream",
          "name": "stdout",
          "text": [
            "Collecting pyspark\n",
            "  Downloading pyspark-3.5.1.tar.gz (317.0 MB)\n",
            "\u001b[2K     \u001b[90m━━━━━━━━━━━━━━━━━━━━━━━━━━━━━━━━━━━━━━━━\u001b[0m \u001b[32m317.0/317.0 MB\u001b[0m \u001b[31m3.0 MB/s\u001b[0m eta \u001b[36m0:00:00\u001b[0m\n",
            "\u001b[?25h  Preparing metadata (setup.py) ... \u001b[?25l\u001b[?25hdone\n",
            "Requirement already satisfied: py4j==0.10.9.7 in /usr/local/lib/python3.10/dist-packages (from pyspark) (0.10.9.7)\n",
            "Building wheels for collected packages: pyspark\n",
            "  Building wheel for pyspark (setup.py) ... \u001b[?25l\u001b[?25hdone\n",
            "  Created wheel for pyspark: filename=pyspark-3.5.1-py2.py3-none-any.whl size=317488491 sha256=5351993b2d4c3fea640b861935fef25c8e472310fec9ff168e0c601d81705f9d\n",
            "  Stored in directory: /root/.cache/pip/wheels/80/1d/60/2c256ed38dddce2fdd93be545214a63e02fbd8d74fb0b7f3a6\n",
            "Successfully built pyspark\n",
            "Installing collected packages: pyspark\n",
            "Successfully installed pyspark-3.5.1\n",
            "Requirement already satisfied: sparknlp in /usr/local/lib/python3.10/dist-packages (1.0.0)\n",
            "Requirement already satisfied: spark-nlp in /usr/local/lib/python3.10/dist-packages (from sparknlp) (5.4.1)\n",
            "Requirement already satisfied: numpy in /usr/local/lib/python3.10/dist-packages (from sparknlp) (1.25.2)\n"
          ]
        }
      ],
      "source": [
        "!pip install pyspark\n",
        "!pip install sparknlp\n",
        "import sparknlp\n",
        "spark = sparknlp.start()\n",
        "\n",
        "from sparknlp.pretrained import PretrainedPipeline"
      ]
    },
    {
      "cell_type": "code",
      "execution_count": 4,
      "metadata": {
        "colab": {
          "base_uri": "https://localhost:8080/"
        },
        "id": "xSv2iBclzWMr",
        "outputId": "fdd6d3a0-df5f-450a-d720-ba18c0b415de"
      },
      "outputs": [
        {
          "output_type": "stream",
          "name": "stdout",
          "text": [
            "explain_document_ml download started this may take some time.\n",
            "Approx size to download 9 MB\n",
            "[OK!]\n"
          ]
        }
      ],
      "source": [
        "pipeline = PretrainedPipeline(\"explain_document_ml\")"
      ]
    },
    {
      "cell_type": "markdown",
      "metadata": {
        "id": "jzvSSJOQ-kKm"
      },
      "source": [
        "We can use some recent headlines."
      ]
    },
    {
      "cell_type": "code",
      "source": [
        "hls = [ # was headlines\n",
        "\t\t\"She ran\",\n",
        "\t\t\"He ran\",\n",
        "\t\t\"I saw her\",\n",
        "\t\t\"I saw him\",\n",
        "\t\t\"I know her name\",\n",
        "\t\t\"I know his name\",\n",
        "\t\t\"That is hers\",\n",
        "\t\t\"That is his\"\n",
        "\t]"
      ],
      "metadata": {
        "id": "VC-21qMEpLWM"
      },
      "execution_count": null,
      "outputs": []
    },
    {
      "cell_type": "markdown",
      "metadata": {
        "id": "CaexWg9g-oJJ"
      },
      "source": [
        "Let's use SparkNLP to analyze these headlines."
      ]
    },
    {
      "cell_type": "code",
      "execution_count": null,
      "metadata": {
        "id": "FkD7QdVMZPjT"
      },
      "outputs": [],
      "source": [
        "# Use dataframes, or...\n",
        "# data = spark.createDataFrame(hls).toDF(\"text\")\n",
        "# dfs = pipeline.transform(data)\n",
        "# ... use list comprehension\n",
        "dfs = [pipeline.annotate(hl) for hl in hls] # I don't know how to use dataframes"
      ]
    },
    {
      "cell_type": "code",
      "execution_count": null,
      "metadata": {
        "id": "xWvlqNUSYxjA",
        "colab": {
          "base_uri": "https://localhost:8080/"
        },
        "outputId": "e342db19-32b4-458a-fd00-770fb0680d3a"
      },
      "outputs": [
        {
          "output_type": "execute_result",
          "data": {
            "text/plain": [
              "[{'document': ['She ran'],\n",
              "  'spell': ['She', 'ran'],\n",
              "  'pos': ['PRP', 'VBD'],\n",
              "  'lemmas': ['She', 'run'],\n",
              "  'token': ['She', 'ran'],\n",
              "  'stems': ['she', 'ran'],\n",
              "  'sentence': ['She ran']},\n",
              " {'document': ['He ran'],\n",
              "  'spell': ['He', 'ran'],\n",
              "  'pos': ['PRP', 'VBD'],\n",
              "  'lemmas': ['He', 'run'],\n",
              "  'token': ['He', 'ran'],\n",
              "  'stems': ['he', 'ran'],\n",
              "  'sentence': ['He ran']},\n",
              " {'document': ['I saw her'],\n",
              "  'spell': ['I', 'saw', 'her'],\n",
              "  'pos': ['PRP', 'VBD', 'PRP$'],\n",
              "  'lemmas': ['I', 'see', 'she'],\n",
              "  'token': ['I', 'saw', 'her'],\n",
              "  'stems': ['i', 'saw', 'her'],\n",
              "  'sentence': ['I saw her']},\n",
              " {'document': ['I saw him'],\n",
              "  'spell': ['I', 'saw', 'him'],\n",
              "  'pos': ['PRP', 'VBD', 'PRP'],\n",
              "  'lemmas': ['I', 'see', 'he'],\n",
              "  'token': ['I', 'saw', 'him'],\n",
              "  'stems': ['i', 'saw', 'him'],\n",
              "  'sentence': ['I saw him']},\n",
              " {'document': ['I know her name'],\n",
              "  'spell': ['I', 'know', 'her', 'name'],\n",
              "  'pos': ['PRP', 'VBP', 'PRP', 'NN'],\n",
              "  'lemmas': ['I', 'know', 'she', 'name'],\n",
              "  'token': ['I', 'know', 'her', 'name'],\n",
              "  'stems': ['i', 'know', 'her', 'name'],\n",
              "  'sentence': ['I know her name']},\n",
              " {'document': ['I know his name'],\n",
              "  'spell': ['I', 'know', 'his', 'name'],\n",
              "  'pos': ['PRP', 'VBP', 'PRP$', 'NN'],\n",
              "  'lemmas': ['I', 'know', 'he', 'name'],\n",
              "  'token': ['I', 'know', 'his', 'name'],\n",
              "  'stems': ['i', 'know', 'hi', 'name'],\n",
              "  'sentence': ['I know his name']},\n",
              " {'document': ['That is hers'],\n",
              "  'spell': ['That', 'is', 'hers'],\n",
              "  'pos': ['DT', 'VBZ', 'NNS'],\n",
              "  'lemmas': ['That', 'be', 'hers'],\n",
              "  'token': ['That', 'is', 'hers'],\n",
              "  'stems': ['that', 'i', 'her'],\n",
              "  'sentence': ['That is hers']},\n",
              " {'document': ['That is his'],\n",
              "  'spell': ['That', 'is', 'his'],\n",
              "  'pos': ['DT', 'VBZ', 'PRP$'],\n",
              "  'lemmas': ['That', 'be', 'he'],\n",
              "  'token': ['That', 'is', 'his'],\n",
              "  'stems': ['that', 'i', 'hi'],\n",
              "  'sentence': ['That is his']}]"
            ]
          },
          "metadata": {},
          "execution_count": 80
        }
      ],
      "source": [
        "# its big\n",
        "dfs"
      ]
    },
    {
      "cell_type": "markdown",
      "metadata": {
        "id": "XbYI4VqB1JCh"
      },
      "source": [
        "Let's say we want to fuse part-of-speech tags to words, to make word differentiation easier."
      ]
    },
    {
      "cell_type": "code",
      "execution_count": null,
      "metadata": {
        "id": "ObEtMFe2aFTr"
      },
      "outputs": [],
      "source": [
        "# Extract words and parts-of-speech\n",
        "tok_tag = [(df['token'],df['pos']) for df in dfs]"
      ]
    },
    {
      "cell_type": "code",
      "execution_count": null,
      "metadata": {
        "id": "DjmzGUa9au-t",
        "colab": {
          "base_uri": "https://localhost:8080/"
        },
        "outputId": "bde27feb-5775-4d82-f732-085fb2349010"
      },
      "outputs": [
        {
          "output_type": "execute_result",
          "data": {
            "text/plain": [
              "[(['She', 'ran'], ['PRP', 'VBD']),\n",
              " (['He', 'ran'], ['PRP', 'VBD']),\n",
              " (['I', 'saw', 'her'], ['PRP', 'VBD', 'PRP$']),\n",
              " (['I', 'saw', 'him'], ['PRP', 'VBD', 'PRP']),\n",
              " (['I', 'know', 'her', 'name'], ['PRP', 'VBP', 'PRP', 'NN']),\n",
              " (['I', 'know', 'his', 'name'], ['PRP', 'VBP', 'PRP$', 'NN']),\n",
              " (['That', 'is', 'hers'], ['DT', 'VBZ', 'NNS']),\n",
              " (['That', 'is', 'his'], ['DT', 'VBZ', 'PRP$'])]"
            ]
          },
          "metadata": {},
          "execution_count": 89
        }
      ],
      "source": [
        "# Still big\n",
        "tok_tag"
      ]
    },
    {
      "cell_type": "code",
      "execution_count": null,
      "metadata": {
        "id": "_quMwObV253r"
      },
      "outputs": [],
      "source": [
        "# fuse pos to word\n",
        "zips = [list(zip(tt[0], tt[1])) for tt in tok_tag]"
      ]
    },
    {
      "cell_type": "code",
      "execution_count": null,
      "metadata": {
        "colab": {
          "base_uri": "https://localhost:8080/"
        },
        "id": "4OhtChnE3s0R",
        "outputId": "ef816479-650c-4dd5-c3b3-a3728e314aa6"
      },
      "outputs": [
        {
          "output_type": "execute_result",
          "data": {
            "text/plain": [
              "[[('She', 'PRP'), ('ran', 'VBD')],\n",
              " [('He', 'PRP'), ('ran', 'VBD')],\n",
              " [('I', 'PRP'), ('saw', 'VBD'), ('her', 'PRP$')],\n",
              " [('I', 'PRP'), ('saw', 'VBD'), ('him', 'PRP')],\n",
              " [('I', 'PRP'), ('know', 'VBP'), ('her', 'PRP'), ('name', 'NN')],\n",
              " [('I', 'PRP'), ('know', 'VBP'), ('his', 'PRP$'), ('name', 'NN')],\n",
              " [('That', 'DT'), ('is', 'VBZ'), ('hers', 'NNS')],\n",
              " [('That', 'DT'), ('is', 'VBZ'), ('his', 'PRP$')]]"
            ]
          },
          "metadata": {},
          "execution_count": 110
        }
      ],
      "source": [
        "# not too big\n",
        "zips"
      ]
    },
    {
      "cell_type": "code",
      "execution_count": null,
      "metadata": {
        "id": "plqXGLJ04aVC"
      },
      "outputs": [],
      "source": [
        "tagged = [\" \".join([\"\".join(word) for word in hl]) for hl in zips]"
      ]
    },
    {
      "cell_type": "code",
      "execution_count": null,
      "metadata": {
        "colab": {
          "base_uri": "https://localhost:8080/"
        },
        "id": "Gs45yaMK4nn-",
        "outputId": "8ff8543b-b6df-4e29-efe9-c16209cd1fa0"
      },
      "outputs": [
        {
          "output_type": "execute_result",
          "data": {
            "text/plain": [
              "['ShePRP ranVBD',\n",
              " 'HePRP ranVBD',\n",
              " 'IPRP sawVBD herPRP$',\n",
              " 'IPRP sawVBD himPRP',\n",
              " 'IPRP knowVBP herPRP nameNN',\n",
              " 'IPRP knowVBP hisPRP$ nameNN',\n",
              " 'ThatDT isVBZ hersNNS',\n",
              " 'ThatDT isVBZ hisPRP$']"
            ]
          },
          "metadata": {},
          "execution_count": 112
        }
      ],
      "source": [
        "tagged"
      ]
    },
    {
      "cell_type": "markdown",
      "metadata": {
        "id": "gVnTs4mW5Acm"
      },
      "source": [
        "What about ebooks?"
      ]
    },
    {
      "cell_type": "code",
      "execution_count": null,
      "metadata": {
        "colab": {
          "base_uri": "https://localhost:8080/"
        },
        "id": "VDk3Kjxa_ZQC",
        "outputId": "7f74c1af-6552-4339-a497-aa5741b7fdde"
      },
      "outputs": [
        {
          "output_type": "stream",
          "name": "stdout",
          "text": [
            "  % Total    % Received % Xferd  Average Speed   Time    Time     Time  Current\n",
            "                                 Dload  Upload   Total   Spent    Left  Speed\n",
            "\r  0     0    0     0    0     0      0      0 --:--:-- --:--:-- --:--:--     0\r100  739k  100  739k    0     0  3198k      0 --:--:-- --:--:-- --:--:-- 3202k\n"
          ]
        }
      ],
      "source": [
        "!curl \"https://raw.githubusercontent.com/cd-public/books/main/pg1342.txt\" -o austen.txt"
      ]
    },
    {
      "cell_type": "code",
      "execution_count": null,
      "metadata": {
        "id": "yRwsiMoK43bU"
      },
      "outputs": [],
      "source": [
        "austen = open('austen.txt').read()"
      ]
    },
    {
      "cell_type": "code",
      "execution_count": null,
      "metadata": {
        "colab": {
          "base_uri": "https://localhost:8080/"
        },
        "id": "2wlNlWDz5RPC",
        "outputId": "b8269740-df32-4c15-b7fd-8c2e289e1884"
      },
      "outputs": [
        {
          "output_type": "stream",
          "name": "stdout",
          "text": [
            "﻿The Project Gutenberg eBook of Pride and Prejudice\n",
            "    \n",
            "This ebook is for the use of anyone anywhere in the United States and\n",
            "most other parts of the world at no cost and with almost no restrictions\n",
            "whatsoever. You may copy it, give it away or re-use it under the terms\n",
            "of the Project Gutenberg License included with this ebook or online\n",
            "at www.gutenberg.org. If you are not located in the United States,\n",
            "you will have to check the laws of the country where you are located\n",
            "before using this eBook.\n",
            "\n",
            "Title: Pride and Prejudice\n",
            "\n",
            "Author: Jane Austen\n",
            "\n",
            "Release date: June 1, 1998 [eBook #1342]\n",
            "                Most recently updated: April 14, 2023\n",
            "\n",
            "Language: English\n",
            "\n",
            "Credits: Chuck Greif and the Online Distributed Proofreading Team at http://www.pgdp.net (This file was produced from images available at The Internet Archive)\n",
            "\n",
            "\n",
            "*** START OF THE PROJECT GUTENBERG EBOOK PRIDE AND PREJUDICE ***\n",
            "\n",
            "\n",
            "\n",
            "\n",
            "\n",
            "                            [Illustration:\n",
            "\n",
            "                             GEORGE ALLEN\n",
            "                 \n"
          ]
        }
      ],
      "source": [
        "print(austen[:1000])"
      ]
    },
    {
      "cell_type": "code",
      "execution_count": null,
      "metadata": {
        "colab": {
          "base_uri": "https://localhost:8080/"
        },
        "id": "Uu7LjNBx91G2",
        "outputId": "710847f6-5e65-4960-c757-a3cba85ee8f4"
      },
      "outputs": [
        {
          "output_type": "execute_result",
          "data": {
            "text/plain": [
              "['DT',\n",
              " 'NNP',\n",
              " 'NNP',\n",
              " 'NN',\n",
              " 'IN',\n",
              " 'NNP',\n",
              " 'CC',\n",
              " 'NNP',\n",
              " 'DT',\n",
              " 'NN',\n",
              " 'VBZ',\n",
              " 'IN',\n",
              " 'DT',\n",
              " 'NN',\n",
              " 'IN',\n",
              " 'NN',\n",
              " 'RB']"
            ]
          },
          "metadata": {},
          "execution_count": 106
        }
      ],
      "source": [
        "pipeline.annotate(austen[:100])['pos']"
      ]
    },
    {
      "cell_type": "markdown",
      "metadata": {
        "id": "hH4AkPuc-dLL"
      },
      "source": [
        "Previously with ebooks, we conducted word counts. We can do that here as well, with Spark."
      ]
    },
    {
      "cell_type": "code",
      "execution_count": null,
      "metadata": {
        "id": "eTyhjm5c_OZ-"
      },
      "outputs": [],
      "source": [
        "from pyspark.sql import SparkSession\n",
        "\n",
        "spark = SparkSession.builder.appName(\"demo\").getOrCreate()"
      ]
    },
    {
      "cell_type": "code",
      "execution_count": null,
      "metadata": {
        "id": "0umuUz1H_PaB"
      },
      "outputs": [],
      "source": [
        "# change 'austen' variable from a string to a spark object\n",
        "austen = spark.sparkContext.textFile(\"austen.txt\")\n",
        "\n",
        "counts = (\n",
        "    austen.flatMap(lambda line: line.split(\" \"))\n",
        "    .map(lambda word: (word, 1))\n",
        "    .reduceByKey(lambda a, b: a + b)\n",
        ")"
      ]
    },
    {
      "cell_type": "code",
      "execution_count": null,
      "metadata": {
        "colab": {
          "base_uri": "https://localhost:8080/"
        },
        "id": "rzfDO41G_4Yv",
        "outputId": "e72e1a59-8a2a-4058-ec6c-3eb61024fe8b"
      },
      "outputs": [
        {
          "output_type": "execute_result",
          "data": {
            "text/plain": [
              "[('The', 285),\n",
              " ('Project', 79),\n",
              " ('of', 3897),\n",
              " ('Pride', 7),\n",
              " ('', 10603),\n",
              " ('ebook', 2),\n",
              " ('is', 861),\n",
              " ('use', 23),\n",
              " ('anyone', 20),\n",
              " ('anywhere', 3)]"
            ]
          },
          "metadata": {},
          "execution_count": 109
        }
      ],
      "source": [
        "counts.collect()[:10]"
      ]
    }
  ],
  "metadata": {
    "colab": {
      "provenance": [],
      "include_colab_link": true
    },
    "kernelspec": {
      "display_name": "Python 3",
      "name": "python3"
    },
    "language_info": {
      "name": "python"
    }
  },
  "nbformat": 4,
  "nbformat_minor": 0
}